{
 "cells": [
  {
   "cell_type": "code",
   "execution_count": 1,
   "id": "initial_id",
   "metadata": {
    "collapsed": true,
    "ExecuteTime": {
     "end_time": "2023-09-19T09:38:51.388622Z",
     "start_time": "2023-09-19T09:38:48.719190Z"
    }
   },
   "outputs": [],
   "source": [
    "import pandas as p\n",
    "import matplotlib.pyplot as plt"
   ]
  },
  {
   "cell_type": "code",
   "execution_count": 3,
   "outputs": [
    {
     "data": {
      "text/plain": "              DateTime  Consumption  Production  Nuclear  Wind  Hydroelectric  \\\n0  2019-01-01 00:00:00         6352        6527     1395    79           1383   \n1  2019-01-01 01:00:00         6116        5701     1393    96           1112   \n2  2019-01-01 02:00:00         5873        5676     1393   142           1030   \n3  2019-01-01 03:00:00         5682        5603     1397   191            972   \n4  2019-01-01 04:00:00         5557        5454     1393   159            960   \n5  2019-01-01 05:00:00         5525        5385     1395    91            958   \n6  2019-01-01 06:00:00         5513        5349     1392    98            938   \n7  2019-01-01 07:00:00         5524        5547     1392    93           1187   \n8  2019-01-01 08:00:00         5510        5471     1391    51           1325   \n9  2019-01-01 09:00:00         5617        5545     1388    15           1398   \n\n   Oil and Gas  Coal  Solar  Biomass  \n0         1896  1744      0       30  \n1         1429  1641      0       30  \n2         1465  1616      0       30  \n3         1455  1558      0       30  \n4         1454  1458      0       30  \n5         1455  1456      0       30  \n6         1451  1440      0       31  \n7         1446  1394      0       34  \n8         1357  1303      8       34  \n9         1328  1319     61       34  ",
      "text/html": "<div>\n<style scoped>\n    .dataframe tbody tr th:only-of-type {\n        vertical-align: middle;\n    }\n\n    .dataframe tbody tr th {\n        vertical-align: top;\n    }\n\n    .dataframe thead th {\n        text-align: right;\n    }\n</style>\n<table border=\"1\" class=\"dataframe\">\n  <thead>\n    <tr style=\"text-align: right;\">\n      <th></th>\n      <th>DateTime</th>\n      <th>Consumption</th>\n      <th>Production</th>\n      <th>Nuclear</th>\n      <th>Wind</th>\n      <th>Hydroelectric</th>\n      <th>Oil and Gas</th>\n      <th>Coal</th>\n      <th>Solar</th>\n      <th>Biomass</th>\n    </tr>\n  </thead>\n  <tbody>\n    <tr>\n      <th>0</th>\n      <td>2019-01-01 00:00:00</td>\n      <td>6352</td>\n      <td>6527</td>\n      <td>1395</td>\n      <td>79</td>\n      <td>1383</td>\n      <td>1896</td>\n      <td>1744</td>\n      <td>0</td>\n      <td>30</td>\n    </tr>\n    <tr>\n      <th>1</th>\n      <td>2019-01-01 01:00:00</td>\n      <td>6116</td>\n      <td>5701</td>\n      <td>1393</td>\n      <td>96</td>\n      <td>1112</td>\n      <td>1429</td>\n      <td>1641</td>\n      <td>0</td>\n      <td>30</td>\n    </tr>\n    <tr>\n      <th>2</th>\n      <td>2019-01-01 02:00:00</td>\n      <td>5873</td>\n      <td>5676</td>\n      <td>1393</td>\n      <td>142</td>\n      <td>1030</td>\n      <td>1465</td>\n      <td>1616</td>\n      <td>0</td>\n      <td>30</td>\n    </tr>\n    <tr>\n      <th>3</th>\n      <td>2019-01-01 03:00:00</td>\n      <td>5682</td>\n      <td>5603</td>\n      <td>1397</td>\n      <td>191</td>\n      <td>972</td>\n      <td>1455</td>\n      <td>1558</td>\n      <td>0</td>\n      <td>30</td>\n    </tr>\n    <tr>\n      <th>4</th>\n      <td>2019-01-01 04:00:00</td>\n      <td>5557</td>\n      <td>5454</td>\n      <td>1393</td>\n      <td>159</td>\n      <td>960</td>\n      <td>1454</td>\n      <td>1458</td>\n      <td>0</td>\n      <td>30</td>\n    </tr>\n    <tr>\n      <th>5</th>\n      <td>2019-01-01 05:00:00</td>\n      <td>5525</td>\n      <td>5385</td>\n      <td>1395</td>\n      <td>91</td>\n      <td>958</td>\n      <td>1455</td>\n      <td>1456</td>\n      <td>0</td>\n      <td>30</td>\n    </tr>\n    <tr>\n      <th>6</th>\n      <td>2019-01-01 06:00:00</td>\n      <td>5513</td>\n      <td>5349</td>\n      <td>1392</td>\n      <td>98</td>\n      <td>938</td>\n      <td>1451</td>\n      <td>1440</td>\n      <td>0</td>\n      <td>31</td>\n    </tr>\n    <tr>\n      <th>7</th>\n      <td>2019-01-01 07:00:00</td>\n      <td>5524</td>\n      <td>5547</td>\n      <td>1392</td>\n      <td>93</td>\n      <td>1187</td>\n      <td>1446</td>\n      <td>1394</td>\n      <td>0</td>\n      <td>34</td>\n    </tr>\n    <tr>\n      <th>8</th>\n      <td>2019-01-01 08:00:00</td>\n      <td>5510</td>\n      <td>5471</td>\n      <td>1391</td>\n      <td>51</td>\n      <td>1325</td>\n      <td>1357</td>\n      <td>1303</td>\n      <td>8</td>\n      <td>34</td>\n    </tr>\n    <tr>\n      <th>9</th>\n      <td>2019-01-01 09:00:00</td>\n      <td>5617</td>\n      <td>5545</td>\n      <td>1388</td>\n      <td>15</td>\n      <td>1398</td>\n      <td>1328</td>\n      <td>1319</td>\n      <td>61</td>\n      <td>34</td>\n    </tr>\n  </tbody>\n</table>\n</div>"
     },
     "execution_count": 3,
     "metadata": {},
     "output_type": "execute_result"
    }
   ],
   "source": [
    "df = p.read_csv(\"data/electricityConsumptionAndProductioction.csv\")\n",
    "df.head(10)"
   ],
   "metadata": {
    "collapsed": false,
    "ExecuteTime": {
     "end_time": "2023-09-19T09:39:06.007079Z",
     "start_time": "2023-09-19T09:39:05.912362Z"
    }
   },
   "id": "6e5ad3e1edd8cfb"
  },
  {
   "cell_type": "code",
   "execution_count": null,
   "outputs": [],
   "source": [],
   "metadata": {
    "collapsed": false
   },
   "id": "294905dc69c49754"
  }
 ],
 "metadata": {
  "kernelspec": {
   "display_name": "Python 3",
   "language": "python",
   "name": "python3"
  },
  "language_info": {
   "codemirror_mode": {
    "name": "ipython",
    "version": 2
   },
   "file_extension": ".py",
   "mimetype": "text/x-python",
   "name": "python",
   "nbconvert_exporter": "python",
   "pygments_lexer": "ipython2",
   "version": "2.7.6"
  }
 },
 "nbformat": 4,
 "nbformat_minor": 5
}
