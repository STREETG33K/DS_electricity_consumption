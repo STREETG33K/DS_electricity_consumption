{
 "cells": [
  {
   "cell_type": "code",
   "execution_count": 19,
   "id": "initial_id",
   "metadata": {
    "collapsed": true,
    "ExecuteTime": {
     "end_time": "2023-09-25T13:32:49.698186Z",
     "start_time": "2023-09-25T13:32:49.607478Z"
    }
   },
   "outputs": [],
   "source": [
    "import pandas as p\n",
    "import matplotlib.pyplot as plt\n",
    "import numpy as np\n",
    "\n",
    "df = p.read_csv(\"data/electricityConsumptionAndProductioction.csv\")\n",
    "df = df.set_index(\"DateTime\")\n",
    "df.index = p.to_datetime(df.index)"
   ]
  },
  {
   "cell_type": "code",
   "execution_count": 20,
   "outputs": [
    {
     "ename": "TypeError",
     "evalue": "'type' object is not subscriptable",
     "output_type": "error",
     "traceback": [
      "\u001B[0;31m---------------------------------------------------------------------------\u001B[0m",
      "\u001B[0;31mTypeError\u001B[0m                                 Traceback (most recent call last)",
      "Input \u001B[0;32mIn [20]\u001B[0m, in \u001B[0;36m<cell line: 4>\u001B[0;34m()\u001B[0m\n\u001B[1;32m      8\u001B[0m common_values \u001B[38;5;241m=\u001B[39m df[col]\u001B[38;5;241m.\u001B[39mvalue_counts()\u001B[38;5;241m.\u001B[39mhead(\u001B[38;5;241m5\u001B[39m)\n\u001B[1;32m      9\u001B[0m missing_percentage \u001B[38;5;241m=\u001B[39m (df[col]\u001B[38;5;241m.\u001B[39misnull()\u001B[38;5;241m.\u001B[39msum() \u001B[38;5;241m/\u001B[39m \u001B[38;5;28mlen\u001B[39m(df)) \u001B[38;5;241m*\u001B[39m \u001B[38;5;241m100\u001B[39m\n\u001B[0;32m---> 10\u001B[0m statistics_df \u001B[38;5;241m=\u001B[39m \u001B[43mp\u001B[49m\u001B[38;5;241;43m.\u001B[39;49m\u001B[43mDataFrame\u001B[49m\u001B[43m[\u001B[49m\u001B[38;5;124;43m'\u001B[39;49m\u001B[38;5;124;43mColumn\u001B[39;49m\u001B[38;5;124;43m'\u001B[39;49m\u001B[43m:\u001B[49m\u001B[43m \u001B[49m\u001B[43mcol\u001B[49m\u001B[43m,\u001B[49m\n\u001B[1;32m     11\u001B[0m \u001B[43m                                      \u001B[49m\u001B[38;5;124;43m'\u001B[39;49m\u001B[38;5;124;43mMinimum\u001B[39;49m\u001B[38;5;124;43m'\u001B[39;49m\u001B[43m:\u001B[49m\u001B[43m \u001B[49m\u001B[43mminimum\u001B[49m\u001B[43m,\u001B[49m\n\u001B[1;32m     12\u001B[0m \u001B[43m                                      \u001B[49m\u001B[38;5;124;43m'\u001B[39;49m\u001B[38;5;124;43mMaximum\u001B[39;49m\u001B[38;5;124;43m'\u001B[39;49m\u001B[43m:\u001B[49m\u001B[43m \u001B[49m\u001B[43mmaximum\u001B[49m\u001B[43m,\u001B[49m\n\u001B[1;32m     13\u001B[0m \u001B[43m                                      \u001B[49m\u001B[38;5;124;43m'\u001B[39;49m\u001B[38;5;124;43mAverage\u001B[39;49m\u001B[38;5;124;43m'\u001B[39;49m\u001B[43m:\u001B[49m\u001B[43m \u001B[49m\u001B[43maverage\u001B[49m\u001B[43m,\u001B[49m\n\u001B[1;32m     14\u001B[0m \u001B[43m                                      \u001B[49m\u001B[38;5;124;43m'\u001B[39;49m\u001B[38;5;124;43mCommon Values\u001B[39;49m\u001B[38;5;124;43m'\u001B[39;49m\u001B[43m:\u001B[49m\u001B[43m \u001B[49m\u001B[43mcommon_values\u001B[49m\u001B[43m,\u001B[49m\n\u001B[1;32m     15\u001B[0m \u001B[43m                                      \u001B[49m\u001B[38;5;124;43m'\u001B[39;49m\u001B[38;5;124;43mMissing Percentage\u001B[39;49m\u001B[38;5;124;43m'\u001B[39;49m\u001B[43m:\u001B[49m\u001B[43m \u001B[49m\u001B[43mmissing_percentage\u001B[49m\u001B[43m]\u001B[49m\n\u001B[1;32m     16\u001B[0m \u001B[38;5;28mprint\u001B[39m(statistics_df)\n",
      "\u001B[0;31mTypeError\u001B[0m: 'type' object is not subscriptable"
     ]
    }
   ],
   "source": [
    "important_columns = ['Production','Consumption','Nuclear', 'Wind', 'Hydroelectric', 'Oil and Gas', 'Coal', 'Solar', 'Biomass']\n",
    "#statistics_df = p.DataFrame(columns=['Column', 'Minimum', 'Maximum', 'Average', 'Common Values', 'Missing Percentage'])\n",
    "\n",
    "for col in important_columns:\n",
    "    minimum = df[col].min()\n",
    "    maximum = df[col].max()\n",
    "    average = df[col].mean()\n",
    "    common_values = df[col].value_counts().head(5)\n",
    "    missing_percentage = (df[col].isnull().sum() / len(df)) * 100\n",
    "    statistics_df = p.DataFrame['Column': col,\n",
    "                                          'Minimum': minimum,\n",
    "                                          'Maximum': maximum,\n",
    "                                          'Average': average,\n",
    "                                          'Common Values': common_values,\n",
    "                                          'Missing Percentage': missing_percentage]\n",
    "    print(statistics_df)\n"
   ],
   "metadata": {
    "collapsed": false,
    "ExecuteTime": {
     "end_time": "2023-09-25T13:32:50.838562Z",
     "start_time": "2023-09-25T13:32:50.814065Z"
    }
   },
   "id": "44ce200f68c3e1a"
  },
  {
   "cell_type": "code",
   "execution_count": 28,
   "outputs": [
    {
     "data": {
      "text/plain": "<Figure size 432x288 with 1 Axes>",
      "image/png": "[encoded data removed]"
     },
     "metadata": {
      "needs_background": "light"
     },
     "output_type": "display_data"
    }
   ],
   "source": [
    "\n",
    "# Define the 10 most important information items (replace with your column names)\n",
    "important_columns = ['Production', 'Consumption', 'Nuclear', 'Wind', 'Hydroelectric', 'Oil and Gas', 'Coal', 'Solar', 'Biomass']\n",
    "\n",
    "# Create a dictionary to store statistics\n",
    "statistics_dict = {}\n",
    "\n",
    "# Calculate and store statistics\n",
    "for col in important_columns:\n",
    "    minimum = df[col].min()\n",
    "    maximum = df[col].max()\n",
    "    average = df[col].mean()\n",
    "    statistics_dict[col] = {'Minimum': minimum, 'Maximum': maximum, 'Average': average}\n",
    "\n",
    "# Prepare data for plotting\n",
    "labels = ['Minimum', 'Maximum', 'Average']\n",
    "colors = ['r', 'g', 'b','r', 'g', 'b','r', 'g', 'b','r', 'g', 'b','r', 'g', 'b','r', 'g', 'b','r', 'g', 'b','r', 'g', 'b']\n",
    "x = np.arange(len(labels))\n",
    "width = 0.2\n",
    "\n",
    "# Create a bar graph with color-coated bars\n",
    "for i, (col, stats) in enumerate(statistics_dict.items()):\n",
    "    values = [stats['Minimum'], stats['Maximum'], stats['Average']]\n",
    "    plt.bar(x + i * width, values, width=width, label=col, color=colors[i])\n",
    "\n",
    "plt.xlabel('Statistics')\n",
    "plt.ylabel('Values')\n",
    "plt.title('Statistics for Important Information Items')\n",
    "plt.xticks(x + width * 1.5, labels)\n",
    "plt.legend(loc='upper right')\n",
    "plt.grid(axis='y')\n",
    "\n",
    "plt.show()\n"
   ],
   "metadata": {
    "collapsed": false,
    "ExecuteTime": {
     "end_time": "2023-09-25T13:35:00.820508Z",
     "start_time": "2023-09-25T13:35:00.639023Z"
    }
   },
   "id": "8b39297c5024eaab"
  },
  {
   "cell_type": "code",
   "execution_count": 37,
   "outputs": [
    {
     "ename": "ValueError",
     "evalue": "The truth value of a Index is ambiguous. Use a.empty, a.bool(), a.item(), a.any() or a.all().",
     "output_type": "error",
     "traceback": [
      "\u001B[0;31m---------------------------------------------------------------------------\u001B[0m",
      "\u001B[0;31mValueError\u001B[0m                                Traceback (most recent call last)",
      "Input \u001B[0;32mIn [37]\u001B[0m, in \u001B[0;36m<cell line: 10>\u001B[0;34m()\u001B[0m\n\u001B[1;32m      7\u001B[0m summary_stats \u001B[38;5;241m=\u001B[39m df\u001B[38;5;241m.\u001B[39mdescribe()\n\u001B[1;32m      9\u001B[0m \u001B[38;5;66;03m# Create a PrettyTable instance\u001B[39;00m\n\u001B[0;32m---> 10\u001B[0m table \u001B[38;5;241m=\u001B[39m \u001B[43mPrettyTable\u001B[49m\u001B[43m(\u001B[49m\u001B[43msummary_stats\u001B[49m\u001B[38;5;241;43m.\u001B[39;49m\u001B[43mcolumns\u001B[49m\u001B[43m)\u001B[49m\n\u001B[1;32m     12\u001B[0m \u001B[38;5;66;03m# Add data rows to the table\u001B[39;00m\n\u001B[1;32m     13\u001B[0m \u001B[38;5;28;01mfor\u001B[39;00m index, row \u001B[38;5;129;01min\u001B[39;00m summary_stats\u001B[38;5;241m.\u001B[39miterrows():\n",
      "File \u001B[0;32m~/opt/anaconda3/lib/python3.9/site-packages/prettytable/prettytable.py:148\u001B[0m, in \u001B[0;36mPrettyTable.__init__\u001B[0;34m(self, field_names, **kwargs)\u001B[0m\n\u001B[1;32m    145\u001B[0m \u001B[38;5;28mself\u001B[39m\u001B[38;5;241m.\u001B[39mfloat_format \u001B[38;5;241m=\u001B[39m {}\n\u001B[1;32m    146\u001B[0m \u001B[38;5;28mself\u001B[39m\u001B[38;5;241m.\u001B[39mcustom_format \u001B[38;5;241m=\u001B[39m {}\n\u001B[0;32m--> 148\u001B[0m \u001B[38;5;28;01mif\u001B[39;00m field_names:\n\u001B[1;32m    149\u001B[0m     \u001B[38;5;28mself\u001B[39m\u001B[38;5;241m.\u001B[39mfield_names \u001B[38;5;241m=\u001B[39m field_names\n\u001B[1;32m    150\u001B[0m \u001B[38;5;28;01melse\u001B[39;00m:\n",
      "File \u001B[0;32m~/opt/anaconda3/lib/python3.9/site-packages/pandas/core/indexes/base.py:3034\u001B[0m, in \u001B[0;36mIndex.__nonzero__\u001B[0;34m(self)\u001B[0m\n\u001B[1;32m   3032\u001B[0m \u001B[38;5;129m@final\u001B[39m\n\u001B[1;32m   3033\u001B[0m \u001B[38;5;28;01mdef\u001B[39;00m \u001B[38;5;21m__nonzero__\u001B[39m(\u001B[38;5;28mself\u001B[39m) \u001B[38;5;241m-\u001B[39m\u001B[38;5;241m>\u001B[39m NoReturn:\n\u001B[0;32m-> 3034\u001B[0m     \u001B[38;5;28;01mraise\u001B[39;00m \u001B[38;5;167;01mValueError\u001B[39;00m(\n\u001B[1;32m   3035\u001B[0m         \u001B[38;5;124mf\u001B[39m\u001B[38;5;124m\"\u001B[39m\u001B[38;5;124mThe truth value of a \u001B[39m\u001B[38;5;132;01m{\u001B[39;00m\u001B[38;5;28mtype\u001B[39m(\u001B[38;5;28mself\u001B[39m)\u001B[38;5;241m.\u001B[39m\u001B[38;5;18m__name__\u001B[39m\u001B[38;5;132;01m}\u001B[39;00m\u001B[38;5;124m is ambiguous. \u001B[39m\u001B[38;5;124m\"\u001B[39m\n\u001B[1;32m   3036\u001B[0m         \u001B[38;5;124m\"\u001B[39m\u001B[38;5;124mUse a.empty, a.bool(), a.item(), a.any() or a.all().\u001B[39m\u001B[38;5;124m\"\u001B[39m\n\u001B[1;32m   3037\u001B[0m     )\n",
      "\u001B[0;31mValueError\u001B[0m: The truth value of a Index is ambiguous. Use a.empty, a.bool(), a.item(), a.any() or a.all()."
     ]
    }
   ],
   "source": [],
   "metadata": {
    "collapsed": false,
    "ExecuteTime": {
     "end_time": "2023-09-25T13:48:55.155460Z",
     "start_time": "2023-09-25T13:48:55.081112Z"
    }
   },
   "id": "81ad8e9db7902302"
  },
  {
   "cell_type": "code",
   "execution_count": null,
   "outputs": [],
   "source": [],
   "metadata": {
    "collapsed": false
   },
   "id": "3ec570a114820a62"
  }
 ],
 "metadata": {
  "kernelspec": {
   "display_name": "Python 3",
   "language": "python",
   "name": "python3"
  },
  "language_info": {
   "codemirror_mode": {
    "name": "ipython",
    "version": 2
   },
   "file_extension": ".py",
   "mimetype": "text/x-python",
   "name": "python",
   "nbconvert_exporter": "python",
   "pygments_lexer": "ipython2",
   "version": "2.7.6"
  }
 },
 "nbformat": 4,
 "nbformat_minor": 5
}
